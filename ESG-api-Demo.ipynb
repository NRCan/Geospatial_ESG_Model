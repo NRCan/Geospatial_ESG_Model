{
 "cells": [
  {
   "cell_type": "markdown",
   "id": "5a591d0c",
   "metadata": {},
   "source": [
    "# Geospatial ESG Model API – Demo Overview\n",
    "\n",
    "This notebook demonstrates how to interact with the **Geospatial ESG Model API**, which provides ESG (Environmental, Social, and Governance) ratings and conflict probabilities for geographic locations. The model is designed to assess spatially situated ESG risks that may impact the supply chains of critical raw materials like lithium.\n",
    "\n",
    "## What is this API?\n",
    "\n",
    "The Geospatial ESG Model combines public datasets (e.g., conservation, governance, biodiversity, land use) to predict:\n",
    "\n",
    "- ESG ratings (percentile-based, 0–100 scale)  \n",
    "- Conflict probability (0–1 scale)\n",
    "\n",
    "Higher ESG ratings indicate lower risk. Higher conflict probabilities indicate greater potential for disputes or disruptions.\n",
    "\n",
    "\n",
    "## Available Endpoints\n",
    "\n",
    "1. **`/single`** – Query a single location.\n",
    "2. **`/multiple`** – Query multiple locations at once.\n",
    "\n",
    "All endpoints use **POST** to handle larger input payloads and maintain consistency.\n",
    "\n",
    "\n",
    "\n",
    "\n",
    "## Input Format\n",
    "\n",
    "### Single Location Request (JSON):\n",
    "\n",
    "```json\n",
    "{\n",
    "  \"latitude\": 45.425,\n",
    "  \"longitude\": -75.695\n",
    "}\n",
    "```\n",
    "### Multiple Locations Request (JSON):\n",
    "\n",
    "```json\n",
    "[\n",
    "  { \"latitude\": 45.425, \"longitude\": -75.695 },\n",
    "  { \"latitude\": 43.651, \"longitude\": -79.347 }\n",
    "]\n",
    "```\n",
    "\n",
    "## Output Format\n",
    "\n",
    "### Example API Response:\n",
    "```json\n",
    "{\n",
    "  \"S2_ID\": \"4cce04f\",\n",
    "  \"RATING_ENVIRONMENTAL\": 2,\n",
    "  \"RATING_SOCIAL\": 24,\n",
    "  \"RATING_GOVERNANCE\": 87,\n",
    "  \"RATING_ESG\": 52,\n",
    "  \"PROBABILITY\": 0.986118498629639\n",
    "}\n",
    "```\n",
    "\n",
    "### Response Descriptions:\n",
    "\n",
    "\n",
    "  - `S2_ID`: Unique alphanumeric identifier based on resolution 12 of the S2 discrete global grid system;\n",
    "\n",
    "  - `RATING_ENVIRONMENTAL`: environmental rating (0–100), higher environmental ratings are interpreted as being associated with lower spatially situated risks;\n",
    "\n",
    "  - `RATING_SOCIAL`: social rating (0–100), higher social ratings are interpreted as being associated with lower spatially situated risks.\n",
    "\n",
    "  - `RATING_GOVERNANCE`: governance rating (0–100), higher governance ratings are interpreted as being associated with lower spatially situated risks.\n",
    "\n",
    "  - `RATING_ESG`: total environmental, social, governance (ESG) rating (0–100), higher ESG ratings are interpreted as being associated with lower spatially situated risks.\n",
    "\n",
    "  - `PROBABILITY`: Likelihood (0–1) of disputes, protests and other forms of natural resources conflict based on the preferred deep learning model. Higher probabilities are interpreted as being associated with higher spatially situated risks."
   ]
  },
  {
   "cell_type": "code",
   "execution_count": null,
   "id": "bf554f03-3208-4bea-857f-3dbf06f2721b",
   "metadata": {},
   "outputs": [],
   "source": [
    "!pip install requests urllib3"
   ]
  },
  {
   "cell_type": "code",
   "execution_count": 1,
   "id": "a8d5a580-3c2c-4e25-8b60-b93a94dde2f5",
   "metadata": {},
   "outputs": [
    {
     "name": "stdout",
     "output_type": "stream",
     "text": [
      "API Response:\n",
      "{'S2_ID': '4cce04f', 'RATING_ENVIRONMENTAL': 2, 'RATING_SOCIAL': 24, 'RATING_GOVERNANCE': 87, 'RATING_ESG': 52, 'PROBABILITY': 0.986118498629639}\n"
     ]
    }
   ],
   "source": [
    "import requests\n",
    "import urllib3\n",
    "\n",
    "# Disable SSL warnings\n",
    "urllib3.disable_warnings(urllib3.exceptions.InsecureRequestWarning)\n",
    "\n",
    "BASE_URL = \"https://cm-esg-mc.nrcan-rncan.cloud-nuage.canada.ca/gep\"\n",
    "\n",
    "# Example payload\n",
    "data = {\n",
    "    \"latitude\": 45.425,\n",
    "    \"longitude\": -75.695\n",
    "}\n",
    "\n",
    "response = requests.post(f\"{BASE_URL}/single\", json=data, verify=False)\n",
    "\n",
    "if response.status_code == 200:\n",
    "    print(\"API Response:\")\n",
    "    print(response.json())\n",
    "else:\n",
    "    print(f\"Error {response.status_code}: {response.text}\")\n"
   ]
  },
  {
   "cell_type": "code",
   "execution_count": 2,
   "id": "65fa6e7a-bcca-414a-8e08-19d273d2da4d",
   "metadata": {},
   "outputs": [
    {
     "name": "stdout",
     "output_type": "stream",
     "text": [
      "API Responses:\n",
      "{'index': 1, 'coordinates': {'latitude': 45.425, 'longitude': -75.695}, 'results': {'S2_ID': '4cce04f', 'RATING_ENVIRONMENTAL': 2, 'RATING_SOCIAL': 24, 'RATING_GOVERNANCE': 87, 'RATING_ESG': 52, 'PROBABILITY': 0.986118498629639}}\n",
      "{'index': 2, 'coordinates': {'latitude': 43.651, 'longitude': -79.347}, 'results': {'S2_ID': '89d4cb1', 'RATING_ENVIRONMENTAL': 6, 'RATING_SOCIAL': 13, 'RATING_GOVERNANCE': 93, 'RATING_ESG': 54, 'PROBABILITY': 0.9178745095013116}}\n"
     ]
    }
   ],
   "source": [
    "import requests\n",
    "import urllib3\n",
    "\n",
    "# Disable SSL warnings  \n",
    "urllib3.disable_warnings(urllib3.exceptions.InsecureRequestWarning)\n",
    "\n",
    "BASE_URL = \"https://cm-esg-mc.nrcan-rncan.cloud-nuage.canada.ca/gep\"\n",
    "\n",
    "# Multiple coordinate pairs\n",
    "data = [\n",
    "    {\"latitude\": 45.425, \"longitude\": -75.695},\n",
    "    {\"latitude\": 43.651, \"longitude\": -79.347}\n",
    "]\n",
    "\n",
    "response = requests.post(f\"{BASE_URL}/multiple\", json=data, verify=False)\n",
    "\n",
    "if response.status_code == 200:\n",
    "    print(\"API Responses:\")\n",
    "    for result in response.json():\n",
    "        print(result)\n",
    "else:\n",
    "    print(f\"Error {response.status_code}: {response.text}\")\n"
   ]
  }
 ],
 "metadata": {
  "kernelspec": {
   "display_name": "Python 3",
   "language": "python",
   "name": "python3"
  },
  "language_info": {
   "codemirror_mode": {
    "name": "ipython",
    "version": 3
   },
   "file_extension": ".py",
   "mimetype": "text/x-python",
   "name": "python",
   "nbconvert_exporter": "python",
   "pygments_lexer": "ipython3",
   "version": "3.12.2"
  }
 },
 "nbformat": 4,
 "nbformat_minor": 5
}
